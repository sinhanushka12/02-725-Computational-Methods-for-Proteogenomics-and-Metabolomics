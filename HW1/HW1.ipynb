{
 "cells": [
  {
   "cell_type": "markdown",
   "metadata": {},
   "source": [
    "## 02725 HW 1 Molecular Graph kernels\n"
   ]
  },
  {
   "cell_type": "markdown",
   "metadata": {},
   "source": [
    "## Imports"
   ]
  },
  {
   "cell_type": "code",
   "execution_count": 2,
   "metadata": {},
   "outputs": [],
   "source": [
    "from rdkit import Chem\n",
    "from rdkit.Chem import Draw, AllChem\n",
    "import py3Dmol\n",
    "import numpy as np"
   ]
  },
  {
   "cell_type": "markdown",
   "metadata": {},
   "source": [
    "##### Load the .mol files for Penicillin A, Penicillin G, and Caffeine"
   ]
  },
  {
   "cell_type": "code",
   "execution_count": 3,
   "metadata": {},
   "outputs": [],
   "source": [
    "def read_mol_file(file_path):\n",
    "    with open(file_path, 'r') as file:\n",
    "        return file.read()\n",
    "\n",
    "caffeine_mol_file = read_mol_file('caffeine.mol')\n",
    "penicillinA_mol_file = read_mol_file('penicillinA.mol')\n",
    "penicillinG_mol_file = read_mol_file('penicillinG.mol')\n",
    "ethane_mol_file = read_mol_file('ethane.mol')"
   ]
  },
  {
   "cell_type": "markdown",
   "metadata": {},
   "source": [
    "## 1.2 Computing Kernels "
   ]
  },
  {
   "cell_type": "markdown",
   "metadata": {},
   "source": [
    "### 1. Write a script to compute the adjacency matrix for a molecular graph given a V2000 MOL file. Indices should correspond to the implicit indices in the MOL file (for the ethane example, the first row/column in the adjacency matrix should represent the first carbon in the MOL file). You may temporarily ignore hydrogens that are not explicit (you don’t need to add implicit hydrogens yet). Show the adjacency matrix your code outputs for Caffeine."
   ]
  },
  {
   "cell_type": "code",
   "execution_count": 5,
   "metadata": {},
   "outputs": [
    {
     "name": "stdout",
     "output_type": "stream",
     "text": [
      "Implicit adjacency matrix for Penicillin A:\n",
      " (24, 24)\n",
      "Implicit adjacency matrix for Caffeine:\n",
      " [[0 1 0 0 0 0 0 0 0 0 0 0 0 0]\n",
      " [1 0 1 0 0 1 0 0 0 0 0 0 0 0]\n",
      " [0 1 0 1 0 0 0 0 0 0 0 0 0 0]\n",
      " [0 0 1 0 1 0 0 0 0 0 0 0 0 0]\n",
      " [0 0 0 1 0 1 0 0 0 0 1 0 0 0]\n",
      " [0 1 0 0 1 0 1 0 0 0 0 0 0 0]\n",
      " [0 0 0 0 0 1 0 1 0 0 0 0 0 1]\n",
      " [0 0 0 0 0 0 1 0 1 1 0 0 0 0]\n",
      " [0 0 0 0 0 0 0 1 0 0 0 0 0 0]\n",
      " [0 0 0 0 0 0 0 1 0 0 1 0 1 0]\n",
      " [0 0 0 0 1 0 0 0 0 1 0 1 0 0]\n",
      " [0 0 0 0 0 0 0 0 0 0 1 0 0 0]\n",
      " [0 0 0 0 0 0 0 0 0 1 0 0 0 0]\n",
      " [0 0 0 0 0 0 1 0 0 0 0 0 0 0]]\n"
     ]
    }
   ],
   "source": [
    "def implicit_adjacency_matrix(mol_file):\n",
    "    matrix = implicit_matrix(mol_file)\n",
    "    for row in range(len(matrix)):\n",
    "        for col in range(len(matrix[row])):\n",
    "            if matrix[row][col] >1 :\n",
    "                matrix[row][col] =  1\n",
    "    return matrix\n",
    "\n",
    "\n",
    "def implicit_matrix(mol_file):\n",
    "    lines = mol_file.splitlines()\n",
    "    counts_line = lines[3]\n",
    "    num_atoms = int(counts_line.split()[0])\n",
    "    num_bonds = int(counts_line.split()[1])\n",
    "\n",
    "    adjacency_matrix = []\n",
    "    for num_row in range(num_atoms):\n",
    "        adjacency_matrix.append([])\n",
    "        for num_col in range(num_atoms):\n",
    "           adjacency_matrix[num_row].append(0) \n",
    "\n",
    "    bond_lines = lines[4 + num_atoms:4 + num_atoms + num_bonds]\n",
    "    for line in bond_lines:\n",
    "        first_atom = int(line.split()[0])\n",
    "        second_atom = int(line.split()[1])\n",
    "        bond_type = int(line.split()[2])\n",
    "        adjacency_matrix[first_atom-1][second_atom-1] = bond_type\n",
    "        adjacency_matrix[second_atom-1][first_atom-1] = bond_type\n",
    "\n",
    "    return adjacency_matrix\n",
    "\n",
    "print(\"Implicit adjacency matrix for Penicillin A:\\n\", np.array(implicit_adjacency_matrix(penicillinA_mol_file)).shape)\n",
    "#print(\"Implicit adjacency matrix for Penicillin G:\\n\", np.array(implicit_adjacency_matrix(penicillinG_mol_file)))\n",
    "print(\"Implicit adjacency matrix for Caffeine:\\n\", np.array(implicit_adjacency_matrix(caffeine_mol_file)))\n"
   ]
  },
  {
   "cell_type": "markdown",
   "metadata": {},
   "source": [
    "### 2. Make all implicit hydrogens explicit. You may assume nitrogen and sulfur always have valences 3 and 2 respectively. Give your hydrogens indices according to the indices of the heavy atom they’re connected to. For example, in ethane the hydrogens connected to carbon 1 will get indices 3, 4, and 5. Similarly carbon 2’s hydrogens will get indices 6, 7, and 9. If any hydrogens are alreadly explicit in the MOL file you do not need to reassign their indices. Show the new adjacency matrix for Caffeine."
   ]
  },
  {
   "cell_type": "code",
   "execution_count": null,
   "metadata": {},
   "outputs": [
    {
     "name": "stdout",
     "output_type": "stream",
     "text": [
      "Implicit adjacency matrix for Caffeine:\n",
      " [[0 1 0 0 0 0 0 0 0 0 0 0 0 0 1 1 1 0 0 0 0 0 0 0]\n",
      " [1 0 1 0 0 1 0 0 0 0 0 0 0 0 0 0 0 0 0 0 0 0 0 0]\n",
      " [0 1 0 1 0 0 0 0 0 0 0 0 0 0 0 0 0 1 0 0 0 0 0 0]\n",
      " [0 0 1 0 1 0 0 0 0 0 0 0 0 0 0 0 0 0 0 0 0 0 0 0]\n",
      " [0 0 0 1 0 1 0 0 0 0 1 0 0 0 0 0 0 0 0 0 0 0 0 0]\n",
      " [0 1 0 0 1 0 1 0 0 0 0 0 0 0 0 0 0 0 0 0 0 0 0 0]\n",
      " [0 0 0 0 0 1 0 1 0 0 0 0 0 1 0 0 0 0 0 0 0 0 0 0]\n",
      " [0 0 0 0 0 0 1 0 1 1 0 0 0 0 0 0 0 0 0 0 0 0 0 0]\n",
      " [0 0 0 0 0 0 0 1 0 0 0 0 0 0 0 0 0 0 1 1 1 0 0 0]\n",
      " [0 0 0 0 0 0 0 1 0 0 1 0 1 0 0 0 0 0 0 0 0 0 0 0]\n",
      " [0 0 0 0 1 0 0 0 0 1 0 1 0 0 0 0 0 0 0 0 0 0 0 0]\n",
      " [0 0 0 0 0 0 0 0 0 0 1 0 0 0 0 0 0 0 0 0 0 1 1 1]\n",
      " [0 0 0 0 0 0 0 0 0 1 0 0 0 0 0 0 0 0 0 0 0 0 0 0]\n",
      " [0 0 0 0 0 0 1 0 0 0 0 0 0 0 0 0 0 0 0 0 0 0 0 0]\n",
      " [1 0 0 0 0 0 0 0 0 0 0 0 0 0 0 0 0 0 0 0 0 0 0 0]\n",
      " [1 0 0 0 0 0 0 0 0 0 0 0 0 0 0 0 0 0 0 0 0 0 0 0]\n",
      " [1 0 0 0 0 0 0 0 0 0 0 0 0 0 0 0 0 0 0 0 0 0 0 0]\n",
      " [0 0 1 0 0 0 0 0 0 0 0 0 0 0 0 0 0 0 0 0 0 0 0 0]\n",
      " [0 0 0 0 0 0 0 0 1 0 0 0 0 0 0 0 0 0 0 0 0 0 0 0]\n",
      " [0 0 0 0 0 0 0 0 1 0 0 0 0 0 0 0 0 0 0 0 0 0 0 0]\n",
      " [0 0 0 0 0 0 0 0 1 0 0 0 0 0 0 0 0 0 0 0 0 0 0 0]\n",
      " [0 0 0 0 0 0 0 0 0 0 0 1 0 0 0 0 0 0 0 0 0 0 0 0]\n",
      " [0 0 0 0 0 0 0 0 0 0 0 1 0 0 0 0 0 0 0 0 0 0 0 0]\n",
      " [0 0 0 0 0 0 0 0 0 0 0 1 0 0 0 0 0 0 0 0 0 0 0 0]]\n"
     ]
    }
   ],
   "source": [
    "def explicit_adjacency_matrix(mol_type, mol_file):\n",
    "    \n",
    "    lines = mol_file.splitlines()\n",
    "    counts_line = lines[3]\n",
    "    num_atoms = int(counts_line.split()[0])\n",
    "    num_bonds = int(counts_line.split()[1])\n",
    "    atom_lines = lines[4:4 + num_atoms]\n",
    "    bond_lines = lines[4 + num_atoms:4 + num_atoms + num_bonds]\n",
    "   \n",
    "    \n",
    "    valence = {'N': 3, 'S': 2, 'C': 4, 'O': 2, 'H': 1}\n",
    "    matrix = implicit_matrix(mol_file)\n",
    "    implicit_adj_mat = implicit_adjacency_matrix(mol_file)\n",
    "    num_H = 0\n",
    "    explicit_hydrogen_indices = {}\n",
    "    for i, line in enumerate(atom_lines):\n",
    "        atom_type = line.split()[3]\n",
    "        if mol_type == True:\n",
    "            if atom_type == \"Na\":\n",
    "                continue\n",
    "            elif i == 3:\n",
    "                continue\n",
    "        row_num = i\n",
    "        current_num_bonds = sum(matrix[row_num])\n",
    "        implicit_hydrogens = valence[atom_type] - current_num_bonds\n",
    "        explicit_hydrogen_indices[i+1] = implicit_hydrogens\n",
    "        num_H += implicit_hydrogens     \n",
    "    \n",
    "    adjacency_matrix_explicit = []\n",
    "    for num_row in range(num_atoms+num_H):\n",
    "        adjacency_matrix_explicit.append([])\n",
    "        for num_col in range(num_atoms+num_H):\n",
    "           adjacency_matrix_explicit[num_row].append(0) \n",
    "   \n",
    "    for i in range(num_atoms):\n",
    "        for j in range(num_atoms):\n",
    "            adjacency_matrix_explicit[i][j] = implicit_adj_mat[i][j]\n",
    "\n",
    "    hydrogen_index = num_atoms\n",
    "    for atom_index, hydrogens in explicit_hydrogen_indices.items():\n",
    "        atom_index = int(atom_index)\n",
    "        for _ in range(hydrogens):\n",
    "            adjacency_matrix_explicit[atom_index - 1][hydrogen_index] = 1 \n",
    "            adjacency_matrix_explicit[hydrogen_index][atom_index - 1] = 1\n",
    "            hydrogen_index += 1\n",
    "\n",
    "    return adjacency_matrix_explicit\n",
    "\n",
    "# print(\"Explicit adjacency matrix for Penicillin A:\\n\", np.array(explicit_adjacency_matrix(False, penicillinA_mol_file)))\n",
    "# print(\"Explicit adjacency matrix for Penicillin G:\\n\", np.array(explicit_adjacency_matrix(True, penicillinG_mol_file)))\n",
    "print(\"Implicit adjacency matrix for Caffeine:\\n\", np.array(explicit_adjacency_matrix(False, caffeine_mol_file)))\n"
   ]
  },
  {
   "cell_type": "markdown",
   "metadata": {},
   "source": [
    "### 3.  Using your new adjacency matrix compute the following mappings discussed in lecture for Penicillin A, Penicillin G, and Caffeine"
   ]
  },
  {
   "cell_type": "markdown",
   "metadata": {},
   "source": [
    "* Molecular formula (consider atoms C, O, N, H and S)"
   ]
  },
  {
   "cell_type": "code",
   "execution_count": null,
   "metadata": {},
   "outputs": [
    {
     "name": "stdout",
     "output_type": "stream",
     "text": [
      "Penniclin_A [16, 4, 2, 26, 1]\n",
      "Caffeine [8, 2, 4, 10, 0]\n",
      "Penniclin_G [16, 4, 2, 17, 1]\n"
     ]
    }
   ],
   "source": [
    "def calc_similarity_molecular_formula_mapping(mol, mol_type): \n",
    "    \n",
    "    mol_explicit_matrix = explicit_adjacency_matrix(mol_type, mol)\n",
    "    mol_lines = mol.splitlines()\n",
    "    mol_counts_line = mol_lines[3]\n",
    "    mol_num_atoms = int(mol_counts_line.split()[0])\n",
    "    mol_atom_lines = mol_lines[4:4 + mol_num_atoms]\n",
    "    \n",
    "    mol_CONHS = {\"C\":0, \"O\":0, \"N\":0, \"H\":0, \"S\":0}\n",
    "    for i, line in enumerate(mol_atom_lines):\n",
    "        atom_type = str(line.split()[3])\n",
    "        if mol_type == True:\n",
    "            if atom_type == \"Na\":\n",
    "                continue\n",
    "        # print(atom_type)\n",
    "        mol_CONHS[atom_type] += 1\n",
    "      \n",
    "    num_H_rows = len(mol_explicit_matrix) - len(mol_atom_lines)\n",
    "    mol_CONHS[\"H\"] += num_H_rows\n",
    "\n",
    "    return list(mol_CONHS.values())\n",
    "\n",
    "pennA_mol_formula = calc_similarity_molecular_formula_mapping(penicillinA_mol_file,  False)\n",
    "print(\"Penniclin_A\", pennA_mol_formula)\n",
    "caffeine_mol_formula = calc_similarity_molecular_formula_mapping(caffeine_mol_file,  False)\n",
    "print(\"Caffeine\", caffeine_mol_formula)\n",
    "pennG_mol_formula = calc_similarity_molecular_formula_mapping(penicillinG_mol_file,  True)\n",
    "print(\"Penniclin_G\", pennG_mol_formula)\n",
    "\n",
    "    "
   ]
  },
  {
   "cell_type": "markdown",
   "metadata": {},
   "source": [
    "* Label paired with length = 3"
   ]
  },
  {
   "cell_type": "code",
   "execution_count": null,
   "metadata": {},
   "outputs": [
    {
     "name": "stdout",
     "output_type": "stream",
     "text": [
      "Label Paired with length = 3 for Penicillin G:\n",
      " [[218  19  34  99  14]\n",
      " [ 19   0   3   6   0]\n",
      " [ 34   3   4   8   2]\n",
      " [ 99   6   8  12   8]\n",
      " [ 14   0   2   8   0]]\n",
      "Label Paired with length = 3 for Penicillin A:\n",
      " [[220  20  34 144  14]\n",
      " [ 20   0   3   9   0]\n",
      " [ 34   3   4   8   2]\n",
      " [144   9   8  56   8]\n",
      " [ 14   0   2   8   0]]\n",
      "Label Paired with length = 3 for Caffeine:\n",
      " [[38 13 69 60  0]\n",
      " [13  0  1  0  0]\n",
      " [69  1  6  0  0]\n",
      " [60  0  0  0  0]\n",
      " [ 0  0  0  0  0]]\n"
     ]
    }
   ],
   "source": [
    "def calc_labeled_pair_mapping(mol, mol_type):\n",
    "    \n",
    "    mol_lines = mol.splitlines()\n",
    "    mol_counts_line = mol_lines[3]\n",
    "    mol_num_atoms = int(mol_counts_line.split()[0])\n",
    "    mol_atom_lines = mol_lines[4:4 + mol_num_atoms]\n",
    "    mol_explicit = explicit_adjacency_matrix(mol_type, mol)\n",
    "    \n",
    "    L_mol = []\n",
    "    for num_row in range(5):\n",
    "        L_mol.append([])\n",
    "        for num_col in range(len(mol_explicit)):\n",
    "            L_mol[num_row].append(0)\n",
    "    # CONHS\n",
    "    num_non_hydrogen_atoms = 0\n",
    "    for i, line in enumerate(mol_atom_lines):\n",
    "        atom_type = str(line.split()[3])\n",
    "        if atom_type != \"H\":\n",
    "            num_non_hydrogen_atoms += 1\n",
    "            if atom_type == \"O\":\n",
    "                L_mol[1][i] = 1\n",
    "            elif atom_type == \"C\":\n",
    "                L_mol[0][i] = 1\n",
    "            elif atom_type == \"N\":\n",
    "                L_mol[2][i] = 1\n",
    "            elif atom_type == \"S\":\n",
    "                L_mol[4][i] = 1\n",
    "\n",
    "    rows_H = len(mol_explicit) - num_non_hydrogen_atoms\n",
    "    L_mol[3][num_non_hydrogen_atoms:num_non_hydrogen_atoms + rows_H] = [1] * rows_H\n",
    "    \n",
    "    \n",
    "    L_mol = np.array(L_mol)\n",
    "    L_mol_t = L_mol.T\n",
    "    adjacency_matrix_length3 = np.array(mol_explicit) @ np.array(mol_explicit) @ np.array(mol_explicit)\n",
    "    temp = L_mol @ adjacency_matrix_length3\n",
    "    answer = temp @ L_mol_t\n",
    "    return answer\n",
    "\n",
    "pennG_labeled_pair = calc_labeled_pair_mapping(penicillinG_mol_file, True)\n",
    "print(\"Label Paired with length = 3 for Penicillin G:\\n\", np.array(pennG_labeled_pair))\n",
    "pennA_labeled_pair = calc_labeled_pair_mapping(penicillinA_mol_file, False)\n",
    "print(\"Label Paired with length = 3 for Penicillin A:\\n\", np.array(pennA_labeled_pair))\n",
    "caffeine_labeled_pair = calc_labeled_pair_mapping(caffeine_mol_file, False)\n",
    "print(\"Label Paired with length = 3 for Caffeine:\\n\", np.array(caffeine_labeled_pair))\n"
   ]
  },
  {
   "cell_type": "markdown",
   "metadata": {},
   "source": [
    "* Depth first search (all cycles, double traverse, no compression, depth = 2). This should be a binary (0/1) map"
   ]
  },
  {
   "cell_type": "code",
   "execution_count": null,
   "metadata": {},
   "outputs": [
    {
     "name": "stdout",
     "output_type": "stream",
     "text": [
      "Depth First Search for Penicillin A\n",
      ": [1, 1, 1, 1, 1, 1, 0, 0, 1, 0, 1, 0, 0, 1, 0, 1, 1, 1, 0, 0, 1, 0, 0, 0, 0, 1, 1, 1, 1, 1, 1, 0, 0, 1, 0, 1, 0, 0, 1, 0, 1, 0, 0, 0, 0, 1, 0, 0, 0, 0, 1, 1, 1, 0, 0, 0, 0, 0, 0, 0, 0, 0, 0, 0, 0, 0, 1, 0, 0, 0, 0, 0, 0, 0, 0, 1, 1, 1, 1, 1, 0, 0, 0, 0, 0, 0, 0, 0, 0, 0, 0, 0, 1, 0, 0, 0, 0, 0, 0, 0, 1, 0, 1, 1, 1, 1, 0, 0, 1, 0, 1, 0, 0, 1, 0, 0, 0, 0, 0, 0, 0, 0, 0, 0, 0, 1, 0, 1, 1, 1, 0, 0, 0, 0, 0, 0, 0, 0, 0, 0, 0, 0, 0, 0, 0, 0, 0, 0, 0, 0]\n",
      "Depth First Search for Penicillin G\n",
      ": [1, 1, 1, 1, 1, 1, 0, 0, 0, 0, 1, 0, 0, 1, 0, 1, 0, 1, 0, 0, 1, 0, 0, 0, 0, 1, 1, 1, 1, 1, 1, 0, 0, 0, 0, 1, 0, 0, 1, 0, 1, 0, 0, 0, 0, 1, 0, 0, 0, 0, 1, 1, 1, 0, 0, 0, 0, 0, 0, 0, 0, 0, 0, 0, 0, 0, 0, 0, 0, 0, 0, 0, 0, 0, 0, 1, 1, 1, 1, 1, 0, 0, 0, 0, 0, 0, 0, 0, 0, 0, 0, 0, 1, 0, 0, 0, 0, 0, 0, 0, 1, 0, 1, 1, 1, 0, 0, 0, 0, 0, 1, 0, 0, 1, 0, 0, 0, 0, 0, 0, 0, 0, 0, 0, 0, 1, 0, 1, 1, 1, 0, 0, 0, 0, 0, 0, 0, 0, 0, 0, 0, 0, 0, 0, 0, 0, 0, 0, 0, 0]\n",
      "Depth First Search for Caffeine \n",
      ": [1, 1, 1, 1, 0, 1, 0, 0, 0, 0, 1, 0, 0, 0, 0, 1, 0, 0, 0, 0, 0, 0, 0, 0, 0, 1, 1, 1, 0, 0, 1, 0, 0, 0, 0, 1, 0, 0, 0, 0, 1, 0, 0, 0, 0, 0, 0, 0, 0, 0, 1, 1, 1, 0, 0, 0, 0, 0, 0, 0, 0, 0, 0, 0, 0, 0, 0, 0, 0, 0, 0, 0, 0, 0, 0, 1, 1, 1, 1, 0, 0, 0, 0, 0, 0, 0, 0, 0, 0, 0, 0, 0, 0, 0, 0, 0, 0, 0, 0, 0, 0, 0, 1, 1, 0, 0, 0, 0, 0, 0, 0, 0, 0, 0, 0, 0, 0, 0, 0, 0, 0, 0, 0, 0, 0, 0, 0, 0, 0, 0, 0, 0, 0, 0, 0, 0, 0, 0, 0, 0, 0, 0, 0, 0, 0, 0, 0, 0, 0, 0]\n"
     ]
    }
   ],
   "source": [
    "def DFS(mol_type, mol_file, atoms_order):\n",
    "    l  = ['C', 'O', 'N', 'H', 'S']\n",
    "    paths = {}                                                              # keys= possible paths, value = absence/presence (0 or 1)\n",
    "    possible_paths = paths_key(l)                                           # get all possible paths\n",
    "    adj_mat = explicit_adjacency_matrix(mol_type, mol_file)\n",
    "    order = get_atoms_order(mol_type, mol_file)\n",
    "    \n",
    "    for p in possible_paths:\n",
    "        atom_indices = {}\n",
    "        for char in l:\n",
    "            atom_indices[char] = []\n",
    "        for i in range(len(order)):\n",
    "            if order[i] == \"Na\":\n",
    "                continue\n",
    "            atom_indices[order[i]].append(i)\n",
    "\n",
    "        indices_seqs = [] \n",
    "        for step in p:                                                     # p =[\"c\",\"n\",\"o\"] indices_seqs = [[indices of C],[indices of N],[indices of O]] = [[2,4],[1,3],[5]]\n",
    "            indices_seqs.append(atom_indices[step])\n",
    "        \n",
    "        cartesian_prods = cartesian_product(p, indices_seqs)\n",
    "        \n",
    "                                                                           # cartesian_product = [[2,4,5],[2,3,5],[4,1,5],[4,3,5]]\n",
    "        for path in cartesian_prods:                                       # for first iteration, path =[2,4,5]\n",
    "            # if one combination is present then we don't need to check for the other ones since we don't want count\n",
    "                d = len(path) # d=  3\n",
    "                val = 1\n",
    "                for i in range(d-1): # i = 0, 1\n",
    "                    if adj_mat[path[i]][path[i+1]] == 0:\n",
    "                        # checking adj_mat[2][4] has 1 or 0 \n",
    "                        val = 0\n",
    "                if val == 1:\n",
    "                    paths[str(p)] = 1\n",
    "                    break\n",
    "        # if no combination worked, then check if p exists in the final dictionary\n",
    "        # if p does not exist in the final dictionary, then the path is absent.\n",
    "        if not (str(p) in paths.keys()):\n",
    "            paths[str(p)] = 0\n",
    "    return paths\n",
    "\n",
    "\n",
    "def get_atoms_order(mol_type, mol_file): \n",
    "    lines = mol_file.splitlines()\n",
    "    counts_line = lines[3]\n",
    "    num_atoms = int(counts_line.split()[0])\n",
    "    num_bonds = int(counts_line.split()[1])\n",
    "    atom_lines = lines[4:4 + num_atoms]\n",
    "    atoms_order = []\n",
    "    valence = {'N': 3, 'S': 2, 'C': 4, 'O': 2, 'H': 1}\n",
    "    matrix = implicit_matrix(mol_file)\n",
    "    num_H = 0\n",
    "    for i, line in enumerate(atom_lines):\n",
    "        atom_type = line.split()[3]\n",
    "        atoms_order.append(atom_type)\n",
    "        if mol_type == True:\n",
    "            if atom_type == \"Na\":\n",
    "                continue\n",
    "            elif i == 3:\n",
    "                continue\n",
    "        row_num = i\n",
    "        current_num_bonds = sum(matrix[row_num])\n",
    "        implicit_hydrogens = valence[atom_type] - current_num_bonds\n",
    "        num_H += implicit_hydrogens     \n",
    "    atoms_order = atoms_order + ['H']*num_H\n",
    "    return atoms_order\n",
    "\n",
    "def paths_key(l):\n",
    "    answer = []\n",
    "    for i in l:\n",
    "        for j in l:\n",
    "            answer.append([i]+[j])\n",
    "    for i in l:#\"c->n->n\" \"cnn\" [\"c\",\"n\",\"n\"]\n",
    "        for j in l:\n",
    "            for k in l:\n",
    "                answer.append([i]+[j]+[k])\n",
    "    return answer\n",
    "\n",
    "\n",
    "def cartesian_product(path, indices):\n",
    "    if len(path) == 2:\n",
    "            cartesian_product = []\n",
    "            for i in indices[0]:\n",
    "                for j in indices[1]:\n",
    "                    cartesian_product.append([i,j])\n",
    "    elif len(path) == 3:\n",
    "        cartesian_product = []\n",
    "        for i in indices[0]:\n",
    "            for j in indices[1]:\n",
    "                for k in indices[2]:\n",
    "                    cartesian_product.append([i,j, k])\n",
    "    return cartesian_product\n",
    "\n",
    "pennA_atoms_order = get_atoms_order(False, penicillinA_mol_file)\n",
    "pennA_DFS = DFS(False, penicillinA_mol_file, pennA_atoms_order)\n",
    "print(\"Depth First Search for Penicillin A\\n:\", list(pennA_DFS.values()))\n",
    "\n",
    "pennG_atoms_order = get_atoms_order(True, penicillinG_mol_file)\n",
    "pennG_DFS = DFS(True, penicillinG_mol_file, pennG_atoms_order)\n",
    "print(\"Depth First Search for Penicillin G\\n:\", list(pennG_DFS.values()))\n",
    "\n",
    "caffeine_atoms_order = get_atoms_order(False, caffeine_mol_file)\n",
    "caffeine_DFS = DFS(False, caffeine_mol_file, caffeine_atoms_order)\n",
    "print(\"Depth First Search for Caffeine \\n:\", list(caffeine_DFS.values()))\n",
    "\n",
    "    "
   ]
  },
  {
   "cell_type": "markdown",
   "metadata": {},
   "source": [
    "### 4. Using your mappings compute the following kernels k(G1,G2) for all (3, 2) pairs of Penicillin A, G, and Caffeine"
   ]
  },
  {
   "cell_type": "markdown",
   "metadata": {},
   "source": [
    "* Molecular formula"
   ]
  },
  {
   "cell_type": "code",
   "execution_count": null,
   "metadata": {},
   "outputs": [
    {
     "name": "stdout",
     "output_type": "stream",
     "text": [
      "k(G1,G2) using the molecular formula mapping for Penicillin A and Caffeine is  404\n",
      "k(G1,G2) using the molecular formula mapping for Penicillin G and Caffeine is  314\n",
      "k(G1,G2) using the molecular formula mapping for Penicillin A and Penicillin G is  719\n"
     ]
    }
   ],
   "source": [
    "def molecular_formula_mapping(mol1_mol_formula, mol2_mol_formula):\n",
    "    return np.dot(np.array(mol1_mol_formula), np.array(mol2_mol_formula))\n",
    "\n",
    "print(\"k(G1,G2) using the molecular formula mapping for Penicillin A and Caffeine is \", molecular_formula_mapping(pennA_mol_formula, caffeine_mol_formula))\n",
    "print(\"k(G1,G2) using the molecular formula mapping for Penicillin G and Caffeine is \", molecular_formula_mapping(pennG_mol_formula, caffeine_mol_formula))\n",
    "print(\"k(G1,G2) using the molecular formula mapping for Penicillin A and Penicillin G is \", molecular_formula_mapping(pennA_mol_formula, pennG_mol_formula))"
   ]
  },
  {
   "cell_type": "markdown",
   "metadata": {},
   "source": [
    "* Moleculr formula + MinMax"
   ]
  },
  {
   "cell_type": "code",
   "execution_count": null,
   "metadata": {},
   "outputs": [
    {
     "name": "stdout",
     "output_type": "stream",
     "text": [
      "Molecular Formula + Min Max k(G1,G2) for Pennicilin A and Caffeine is  0.43137254901960786\n",
      "Molecular Formula + Min Max k(G1,G2) for Pennicilin G and Caffeine is  0.5238095238095238\n",
      "Molecular Formula + Min Max k(G1,G2) for Pennicilin A and Pennicilin G is  0.8163265306122449\n"
     ]
    }
   ],
   "source": [
    "def mol_formula_min_max_mapping(mol1_mol_formula, mol2_mol_formula):\n",
    "    min_vector = sum([min(els) for els in zip(mol1_mol_formula, mol2_mol_formula)])\n",
    "    max_vector = sum([max(els) for els in zip(mol1_mol_formula, mol2_mol_formula)])\n",
    "    return min_vector/max_vector\n",
    "print(\"Molecular Formula + Min Max k(G1,G2) for Pennicilin A and Caffeine is \", mol_formula_min_max_mapping(pennA_mol_formula, caffeine_mol_formula))\n",
    "print(\"Molecular Formula + Min Max k(G1,G2) for Pennicilin G and Caffeine is \", mol_formula_min_max_mapping(pennG_mol_formula, caffeine_mol_formula))\n",
    "print(\"Molecular Formula + Min Max k(G1,G2) for Pennicilin A and Pennicilin G is \", mol_formula_min_max_mapping(pennA_mol_formula, pennG_mol_formula))\n"
   ]
  },
  {
   "cell_type": "markdown",
   "metadata": {},
   "source": [
    "* Label paired"
   ]
  },
  {
   "cell_type": "code",
   "execution_count": null,
   "metadata": {},
   "outputs": [
    {
     "name": "stdout",
     "output_type": "stream",
     "text": [
      "The Label paired k(G1,G2) for Penicillin A and Caffeine is  30882\n",
      "The Label paired k(G1,G2) for Penicillin G and Caffeine is  25380\n",
      "The Label paired k(G1,G2) for Penicillin A and Penicillin G is  81014\n"
     ]
    }
   ],
   "source": [
    "def labeled_pair_mapping(mol1_labeled_pair, mol2_labeled_pair):\n",
    "    mol1_LP = np.array(mol1_labeled_pair)\n",
    "    mol1_LP = mol1_LP.flatten()\n",
    "    mol2_LP = np.array(mol2_labeled_pair)\n",
    "    mol2_LP = mol2_LP.flatten()\n",
    "    mapping = np.dot(mol1_LP, mol2_LP)\n",
    "    return mapping\n",
    "\n",
    "print(\"The Label paired k(G1,G2) for Penicillin A and Caffeine is \"  ,labeled_pair_mapping(pennA_labeled_pair,  caffeine_labeled_pair))\n",
    "print(\"The Label paired k(G1,G2) for Penicillin G and Caffeine is \"  ,labeled_pair_mapping(pennG_labeled_pair,  caffeine_labeled_pair))\n",
    "print(\"The Label paired k(G1,G2) for Penicillin A and Penicillin G is \"  ,labeled_pair_mapping(pennA_labeled_pair,  pennG_labeled_pair))"
   ]
  },
  {
   "cell_type": "markdown",
   "metadata": {},
   "source": [
    "* Label paired + MinMax"
   ]
  },
  {
   "cell_type": "code",
   "execution_count": null,
   "metadata": {},
   "outputs": [
    {
     "name": "stdout",
     "output_type": "stream",
     "text": [
      "Label Pair + Min Max k(G1,G2) for Pennicilin A and Caffeine is  0.30861244019138756\n",
      "Label Pair + Min Max k(G1,G2) for Pennicilin G and Caffeine is  0.37283236994219654\n",
      "Label Pair + Min Max k(G1,G2) for Pennicilin A and Pennicilin G is  0.8115183246073299\n"
     ]
    }
   ],
   "source": [
    "def label_pair_min_max(mol1_labeled_pair, mol2_labeled_pair):\n",
    "    mol1_LP = np.array(mol1_labeled_pair)\n",
    "    mol1_LP = mol1_LP.flatten()\n",
    "    mol2_LP = np.array(mol2_labeled_pair)\n",
    "    mol2_LP = mol2_LP.flatten()\n",
    "    min_vector = sum([min(els) for els in zip(mol1_LP, mol2_LP)])\n",
    "    max_vector = sum([max(els) for els in zip(mol1_LP, mol2_LP)])\n",
    "    mapping = min_vector/max_vector\n",
    "    return mapping\n",
    "\n",
    "print(\"Label Pair + Min Max k(G1,G2) for Pennicilin A and Caffeine is \" ,label_pair_min_max(pennA_labeled_pair, caffeine_labeled_pair))\n",
    "print(\"Label Pair + Min Max k(G1,G2) for Pennicilin G and Caffeine is \" ,label_pair_min_max(pennG_labeled_pair, caffeine_labeled_pair))\n",
    "print(\"Label Pair + Min Max k(G1,G2) for Pennicilin A and Pennicilin G is \" ,label_pair_min_max(pennA_labeled_pair, pennG_labeled_pair))"
   ]
  },
  {
   "cell_type": "markdown",
   "metadata": {},
   "source": [
    "* Depth first search"
   ]
  },
  {
   "cell_type": "code",
   "execution_count": null,
   "metadata": {},
   "outputs": [
    {
     "name": "stdout",
     "output_type": "stream",
     "text": [
      "Depth First Search k(G1,G2) for Pennicilin A and Caffeine is  22\n",
      "Depth First Search k(G1,G2) for Pennicilin G and Caffeine is  22\n",
      "Depth First Search k(G1,G2) for Pennicilin A and Pennicilin G is  40\n"
     ]
    }
   ],
   "source": [
    "def DFS_mapping(mol1_bit_vector, mol2_bit_vector):\n",
    "    mol1_BV = list(mol1_bit_vector.values())\n",
    "    mol2_BV = list(mol2_bit_vector.values())\n",
    "    return np.dot(mol1_BV, mol2_BV)\n",
    "\n",
    "print(\"Depth First Search k(G1,G2) for Pennicilin A and Caffeine is \" , DFS_mapping(pennA_DFS, caffeine_DFS))\n",
    "print(\"Depth First Search k(G1,G2) for Pennicilin G and Caffeine is \" , DFS_mapping(pennG_DFS, caffeine_DFS))\n",
    "print(\"Depth First Search k(G1,G2) for Pennicilin A and Pennicilin G is \" , DFS_mapping(pennA_DFS, pennG_DFS))"
   ]
  },
  {
   "cell_type": "markdown",
   "metadata": {},
   "source": [
    "* Depth first search + Tanimoto"
   ]
  },
  {
   "cell_type": "code",
   "execution_count": null,
   "metadata": {},
   "outputs": [
    {
     "name": "stdout",
     "output_type": "stream",
     "text": [
      "DFS + Tanimoto Similarity k(G1,G2) for Pennicilin A and Caffeine is  0.4782608695652174\n",
      "DFS + Tanimoto Similarity k(G1,G2) for Pennicilin G and Caffeine is  0.55\n",
      "DFS + Tanimoto Similarity k(G1,G2) for Pennicilin A and Pennicilin G is  0.8695652173913043\n"
     ]
    }
   ],
   "source": [
    "def DFS_tanimoto(mol1_bit_vector, mol2_bit_vector):\n",
    "    mol1_BV = list(mol1_bit_vector.values())\n",
    "    mol2_BV = list(mol2_bit_vector.values())\n",
    "    u_u = sum(mol1_BV)\n",
    "    v_v = sum(mol2_BV)\n",
    "    u_v = u_v = sum([1 if mol1_BV[i] == 1 and mol2_BV[i] == 1 else 0 for i in range(len(mol1_BV))])\n",
    "    denominator = u_u + v_v - u_v\n",
    "    tanimoto_sim = u_v / denominator\n",
    "    return tanimoto_sim\n",
    "print(\"DFS + Tanimoto Similarity k(G1,G2) for Pennicilin A and Caffeine is \",DFS_tanimoto(pennA_DFS, caffeine_DFS))\n",
    "print(\"DFS + Tanimoto Similarity k(G1,G2) for Pennicilin G and Caffeine is \",DFS_tanimoto(pennG_DFS, caffeine_DFS))\n",
    "print(\"DFS + Tanimoto Similarity k(G1,G2) for Pennicilin A and Pennicilin G is \",DFS_tanimoto(pennA_DFS, pennG_DFS))"
   ]
  }
 ],
 "metadata": {
  "kernelspec": {
   "display_name": "Python 3.9.13 ('base')",
   "language": "python",
   "name": "python3"
  },
  "language_info": {
   "codemirror_mode": {
    "name": "ipython",
    "version": 3
   },
   "file_extension": ".py",
   "mimetype": "text/x-python",
   "name": "python",
   "nbconvert_exporter": "python",
   "pygments_lexer": "ipython3",
   "version": "3.9.13"
  },
  "orig_nbformat": 4,
  "vscode": {
   "interpreter": {
    "hash": "70d57c135da11913b2ad31fa6150ab201732e694e7c1a956b2909783da6a3273"
   }
  }
 },
 "nbformat": 4,
 "nbformat_minor": 2
}
