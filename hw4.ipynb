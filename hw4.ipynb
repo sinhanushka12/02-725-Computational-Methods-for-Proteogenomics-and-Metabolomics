{
 "cells": [
  {
   "cell_type": "markdown",
   "metadata": {},
   "source": [
    "# 02-725 HW 4"
   ]
  },
  {
   "cell_type": "code",
   "execution_count": 151,
   "metadata": {},
   "outputs": [
    {
     "name": "stdout",
     "output_type": "stream",
     "text": [
      "Requirement already satisfied: biopython in /Users/sinhanushka_/opt/anaconda3/lib/python3.9/site-packages (1.83)\n",
      "Requirement already satisfied: numpy in /Users/sinhanushka_/opt/anaconda3/lib/python3.9/site-packages (from biopython) (1.23.4)\n",
      "Note: you may need to restart the kernel to use updated packages.\n"
     ]
    }
   ],
   "source": [
    "pip install biopython"
   ]
  },
  {
   "cell_type": "markdown",
   "metadata": {},
   "source": [
    "### Imports"
   ]
  },
  {
   "cell_type": "code",
   "execution_count": 152,
   "metadata": {},
   "outputs": [],
   "source": [
    "import pandas as pd \n",
    "import numpy as np \n",
    "from Bio import SeqIO"
   ]
  },
  {
   "cell_type": "markdown",
   "metadata": {},
   "source": [
    "## Question 1 Database Search"
   ]
  },
  {
   "cell_type": "code",
   "execution_count": 153,
   "metadata": {},
   "outputs": [],
   "source": [
    "def read_peak_list(file_path):\n",
    "    with open(file_path, 'r') as file:\n",
    "        spectrum = []\n",
    "        for line in file:\n",
    "            if line.startswith('PM='):\n",
    "                parent_mass = float(line.strip().split('=')[1])\n",
    "                continue  \n",
    "            else:\n",
    "                spectrum.append(float(line.strip()))\n",
    "    return parent_mass, spectrum\n",
    "pm, peak = read_peak_list(\"part_1.peaklist\")\n",
    "\n",
    "def read_fasta(f):\n",
    "    database = []\n",
    "    for record in SeqIO.parse(f, \"fasta\"):\n",
    "        database.append(str(record.seq))\n",
    "    return database\n",
    "seq_list = read_fasta(\"sequence.fasta\")\n"
   ]
  },
  {
   "cell_type": "code",
   "execution_count": 154,
   "metadata": {},
   "outputs": [],
   "source": [
    "def trypsin_digestion(seq_fasta):\n",
    "    all_digested_peptides = []\n",
    "    for seq in seq_fasta:\n",
    "        peptides = []\n",
    "        current_peptide = \"\"\n",
    "        for i in range(len(seq)):\n",
    "            current_peptide += seq[i]\n",
    "            if seq[i] in [\"K\", \"R\"]: \n",
    "                peptides.append(current_peptide)\n",
    "        all_digested_peptides.append(peptides)\n",
    "    return all_digested_peptides\n",
    "\n",
    "trypsin_digested_fragments = trypsin_digestion(seq_list)"
   ]
  },
  {
   "cell_type": "code",
   "execution_count": 155,
   "metadata": {},
   "outputs": [],
   "source": [
    "amino_acid_masses = {\n",
    "    'A': 71.037113787, 'R': 156.101111026, 'N': 114.042927446, 'D': 115.026943031, \n",
    "    'C': 103.009184477, 'E': 129.042593095, 'Q': 128.058577510, 'G': 57.021463723, \n",
    "    'H': 137.058911861, 'I': 113.084063979, 'L': 113.084063979, 'K': 128.094963016, \n",
    "    'M': 131.040484605, 'F': 147.068413915, 'P': 97.052763851, 'S': 87.032028409, \n",
    "    'T': 101.047678473, 'W': 186.079312952, 'Y': 163.063328537, 'V': 99.068413915\n",
    "}\n",
    "\n",
    "def calculate_mass(peptide):\n",
    "    return sum(amino_acid_masses[aa] for aa in peptide) + 1.00728\n",
    "\n",
    "\n",
    "def generate_ions(list_of_peptide_lists):\n",
    "    spectrum_for_all_peptides = dict()\n",
    "    for peptide_list in list_of_peptide_lists:\n",
    "        for peptide in peptide_list:\n",
    "            b_ions = [calculate_mass(peptide[:i]) for i in range(1, len(peptide))]\n",
    "            y_ions = [calculate_mass(peptide[i:]) + 18.01056 for i in range(1, len(peptide))]\n",
    "            combined_ions = b_ions + y_ions\n",
    "            combined_ions.sort()     \n",
    "            spectrum_for_all_peptides[peptide] = combined_ions\n",
    "    return spectrum_for_all_peptides\n",
    "spectrum = generate_ions(trypsin_digested_fragments)"
   ]
  },
  {
   "cell_type": "code",
   "execution_count": 156,
   "metadata": {},
   "outputs": [
    {
     "name": "stdout",
     "output_type": "stream",
     "text": [
      "The best match is IKRKAMAKEEFVRTKPHVNIGTIGHVDHGKTTLTAAISKVLNEKLGTSEAVKSFDQIDNAPEEKERGITINSAHIEYETEKRHYAHVDCPGHADYVKNMVTGAAQMDGAILVCAATDGPMPQTREHVLLARQVNVPRLVVFLNKCDMVDDEEMLELVEMELREILEQYGYEEDTPIVRGSALGALNGVEKWVKSVETLMDTVDEWIQEPEREIDKPFLMPIEDVFSITGRGTVATGRIETGRCKVGDEVQLLGLGEDKKSVITGVEMFRKILAEGEAGDNVGLLLRGIDKAEVKRGMVVVHPGAITPHDHFKASIYVLKKEEGGRHTPFGNKYRPQFYLRTMDCTGEIKLPEGVEMVMPGDNVEIEVELIYKVALNEGLRFAIREGGRTVGSGQITTILDDIK\n"
     ]
    }
   ],
   "source": [
    "def find_best_match(peak_list, peptide_spectra, tolerance=0.02):\n",
    "    peak_list = [float(peak) for peak in peak_list]\n",
    "\n",
    "    best_match = None\n",
    "    max_matches = 0\n",
    "\n",
    "    for peptide, spectrum in peptide_spectra.items():\n",
    "        matches = 0\n",
    "        for peak in peak_list:\n",
    "            if any(abs(peak - mz) <= tolerance for mz in spectrum):\n",
    "                matches += 1\n",
    "        if matches > max_matches:\n",
    "            max_matches = matches\n",
    "            best_match = peptide\n",
    "\n",
    "    return best_match\n",
    "\n",
    "best_match = find_best_match(peak, spectrum, tolerance=0.02)\n",
    "print(\"The best match is\", best_match)\n"
   ]
  },
  {
   "cell_type": "markdown",
   "metadata": {},
   "source": [
    "## Question 2 Modification Discovery"
   ]
  },
  {
   "cell_type": "code",
   "execution_count": 158,
   "metadata": {},
   "outputs": [],
   "source": [
    "def calculate_mass2(peptide):\n",
    "    return sum(amino_acid_masses[aa] for aa in peptide)\n",
    "\n",
    "def get_possible_fragment_masses(fragments):\n",
    "    all_possible_masses = []\n",
    "    for fragment in fragments:\n",
    "        for peptide in fragment:\n",
    "            possible_masses = dict()\n",
    "            max_mass = calculate_mass2(peptide)\n",
    "\n",
    "            counts_S = peptide.count(\"S\")\n",
    "            counts_T = peptide.count(\"T\")\n",
    "        \n",
    "            for s_mods in range(counts_S + 1):\n",
    "                for t_mods in range(counts_T + 1):\n",
    "                    mass_diff = (s_mods + t_mods) * 18\n",
    "                    mod_key = f\"{s_mods}-S-18_{t_mods}-T-18\"\n",
    "                    possible_masses[mod_key] = max_mass - mass_diff\n",
    "\n",
    "        all_possible_masses.append(possible_masses)\n",
    "    return all_possible_masses\n",
    "\n",
    "possible_masses = get_possible_fragment_masses(trypsin_digested_fragments)"
   ]
  },
  {
   "cell_type": "code",
   "execution_count": 159,
   "metadata": {},
   "outputs": [],
   "source": [
    "seq_list = read_fasta(\"sequence.fasta\")\n",
    "parent_mass, peaklist_file_path = read_peak_list(\"part_2.peaklist\")"
   ]
  },
  {
   "cell_type": "code",
   "execution_count": 160,
   "metadata": {},
   "outputs": [
    {
     "name": "stdout",
     "output_type": "stream",
     "text": [
      "Modifications that match the parent mass: [('1-S-18_3-T-18', 2213.09931742), ('0-S-18_0-T-18', 2213.0952611260004)]\n",
      "Fragments that match the parent mass with the modfications shown above ['CPARRRCSATTCPRTPWWR', 'CRPWPDRSDPPISGPWPLR']\n"
     ]
    }
   ],
   "source": [
    "def find_mass_matches(mass_of_the_parent, modification_masses, tryp_peptides, tolerance=0.02):\n",
    "    matching_fragments = []\n",
    "    matching_fragments_indices = []\n",
    "\n",
    "    for idx, fragment_masses in enumerate(modification_masses):\n",
    "        for modification, mass in fragment_masses.items():\n",
    "            if abs(parent_mass - mass) <= tolerance:\n",
    "                matching_fragments.append((modification, mass))\n",
    "                matching_fragments_indices.append((idx, tryp_peptides[idx]))\n",
    "\n",
    "    return matching_fragments, matching_fragments_indices\n",
    "\n",
    "\n",
    "matching_fragments, indices = find_mass_matches(parent_mass, possible_masses, trypsin_digested_fragments,tolerance=0.02)\n",
    "matching_fragments.pop(1)\n",
    "mass_matches = []\n",
    "mass_matches.append(indices[0][1][4])\n",
    "mass_matches.append(indices[2][1][2])\n",
    "print(\"Modifications that match the parent mass:\", matching_fragments)\n",
    "print(\"Fragments that match the parent mass with the modfications shown above\", mass_matches)\n",
    "mass_matches[0] = mass_matches[0][:7] + 's' + mass_matches[0][8:]\n",
    "mass_matches[0] = mass_matches[0].replace('T', 't')"
   ]
  },
  {
   "cell_type": "code",
   "execution_count": 161,
   "metadata": {},
   "outputs": [
    {
     "name": "stdout",
     "output_type": "stream",
     "text": [
      "None\n"
     ]
    }
   ],
   "source": [
    "amino_acid_masses_ques_2 = {\n",
    "    'A': 71.037113787, 'R': 156.101111026, 'N': 114.042927446, 'D': 115.026943031, \n",
    "    'C': 103.009184477, 'E': 129.042593095, 'Q': 128.058577510, 'G': 57.021463723, \n",
    "    'H': 137.058911861, 'I': 113.084063979, 'L': 113.084063979, 'K': 128.094963016, \n",
    "    'M': 131.040484605, 'F': 147.068413915, 'P': 97.052763851, 'S': 87.032028409, \n",
    "    'T': 101.047678473, 'W': 186.079312952, 'Y': 163.063328537, 'V': 99.068413915, \n",
    "    't' : 83.0371184, 's' : 69.021468409\n",
    "}\n",
    "\n",
    "def calculate_mass_ques_2(peptide):\n",
    "    return sum(amino_acid_masses_ques_2[aa] for aa in peptide) + 1.00728\n",
    "\n",
    "\n",
    "def generate_ions_ques_2(peptide_list):\n",
    "    spectrum_for_all_peptides = dict()\n",
    "    for peptide in peptide_list:\n",
    "        b_ions = [calculate_mass_ques_2(peptide[:i]) for i in range(1, len(peptide))]\n",
    "        y_ions = [calculate_mass_ques_2(peptide[i:]) + 18.01056 for i in range(1, len(peptide))]\n",
    "        combined_ions = b_ions + y_ions\n",
    "        combined_ions.sort()     \n",
    "        spectrum_for_all_peptides[peptide] = combined_ions\n",
    "    return spectrum_for_all_peptides\n",
    "spectrum_of_mass_matches = generate_ions_ques_2(mass_matches)\n",
    "\n",
    "result = find_best_match(peaklist_file_path, spectrum_of_mass_matches, tolerance=0.02)\n",
    "print(result)\n"
   ]
  }
 ],
 "metadata": {
  "kernelspec": {
   "display_name": "Python 3.9.13 ('base')",
   "language": "python",
   "name": "python3"
  },
  "language_info": {
   "codemirror_mode": {
    "name": "ipython",
    "version": 3
   },
   "file_extension": ".py",
   "mimetype": "text/x-python",
   "name": "python",
   "nbconvert_exporter": "python",
   "pygments_lexer": "ipython3",
   "version": "3.9.13"
  },
  "orig_nbformat": 4,
  "vscode": {
   "interpreter": {
    "hash": "70d57c135da11913b2ad31fa6150ab201732e694e7c1a956b2909783da6a3273"
   }
  }
 },
 "nbformat": 4,
 "nbformat_minor": 2
}
